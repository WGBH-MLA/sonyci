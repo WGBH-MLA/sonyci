{
 "cells": [
  {
   "attachments": {},
   "cell_type": "markdown",
   "metadata": {},
   "source": [
    "# Interpreter\n",
    "\n",
    "## Token\n",
    "\n",
    "The first step is to get a token from SonyCi. This is done by logging in with a username and password. The token is then used to authenticate all subsequent requests to the API.\n"
   ]
  },
  {
   "attachments": {},
   "cell_type": "markdown",
   "metadata": {},
   "source": [
    "#### Optional: enable DEBUG log\n",
    "\n",
    "Enable the DEBUG log to see the HTTP requests and responses.\n"
   ]
  },
  {
   "cell_type": "code",
   "execution_count": null,
   "metadata": {},
   "outputs": [],
   "source": [
    "import logging\n",
    "\n",
    "logging.getLogger('requests.packages.urllib3').setLevel(logging.DEBUG)\n"
   ]
  },
  {
   "attachments": {},
   "cell_type": "markdown",
   "metadata": {},
   "source": [
    "### Option 1: Get token by logging in\n",
    "\n",
    "Create a file called `ci_config.py` and add your username, password, client_id, and client_secret.\n",
    "\n",
    "```py\n",
    "username = 'your_username'\n",
    "password = 'your_password'\n",
    "client_id = 'your_client_id'\n",
    "client_secret = 'your_client_secret'\n",
    "\n",
    "workspace_id = 'your_workspace_id' # optional\n",
    "```\n"
   ]
  },
  {
   "attachments": {},
   "cell_type": "markdown",
   "metadata": {},
   "source": [
    "Then, create a `SonyCi` instance with those credentials:\n"
   ]
  },
  {
   "cell_type": "code",
   "execution_count": null,
   "metadata": {},
   "outputs": [],
   "source": [
    "from ci_config import *\n",
    "from sonyci import SonyCi, Config\n",
    "\n",
    "ci = SonyCi(\n",
    "    username=username,\n",
    "    password=password,\n",
    "    client_id=client_id,\n",
    "    client_secret=client_secret,\n",
    "    workspace_id=workspace_id,\n",
    ")\n"
   ]
  },
  {
   "attachments": {},
   "cell_type": "markdown",
   "metadata": {},
   "source": [
    "Now, you can use the API:\n"
   ]
  },
  {
   "cell_type": "code",
   "execution_count": null,
   "metadata": {},
   "outputs": [],
   "source": [
    "ci(f'workspaces/{ci.workspace_id}')"
   ]
  },
  {
   "attachments": {},
   "cell_type": "markdown",
   "metadata": {},
   "source": [
    "## Option 2: Use an existing token from file\n",
    "\n",
    "This example creates a new `ApiClient` using the token from running `$ ci login`\n"
   ]
  },
  {
   "cell_type": "code",
   "execution_count": null,
   "metadata": {},
   "outputs": [],
   "source": [
    "from requests_oauth2client.tokens import BearerTokenSerializer\n",
    "\n",
    "\n",
    "with open('../.token') as f:\n",
    "    token = BearerTokenSerializer().loads(f.read())"
   ]
  },
  {
   "cell_type": "code",
   "execution_count": null,
   "metadata": {},
   "outputs": [],
   "source": [
    "from sonyci.sonyci import SonyCi\n",
    "\n",
    "\n",
    "ci = SonyCi(t=token)\n"
   ]
  },
  {
   "cell_type": "code",
   "execution_count": null,
   "metadata": {},
   "outputs": [],
   "source": [
    "ci('workspaces')"
   ]
  },
  {
   "attachments": {},
   "cell_type": "markdown",
   "metadata": {},
   "source": [
    "## Load from a toml file\n",
    "\n",
    "Load the config from a toml file\n"
   ]
  },
  {
   "cell_type": "code",
   "execution_count": null,
   "metadata": {},
   "outputs": [],
   "source": [
    "ci = SonyCi.load_from_toml('../ci.toml')\n",
    "ci('workspaces')\n"
   ]
  }
 ],
 "metadata": {
  "kernelspec": {
   "display_name": ".venv",
   "language": "python",
   "name": "python3"
  },
  "language_info": {
   "codemirror_mode": {
    "name": "ipython",
    "version": 3
   },
   "file_extension": ".py",
   "mimetype": "text/x-python",
   "name": "python",
   "nbconvert_exporter": "python",
   "pygments_lexer": "ipython3",
   "version": "3.11.3"
  },
  "orig_nbformat": 4
 },
 "nbformat": 4,
 "nbformat_minor": 2
}
