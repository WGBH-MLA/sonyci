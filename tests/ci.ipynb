{
 "cells": [
  {
   "attachments": {},
   "cell_type": "markdown",
   "metadata": {},
   "source": [
    "## Get token by logging in\n"
   ]
  },
  {
   "cell_type": "code",
   "execution_count": null,
   "metadata": {},
   "outputs": [],
   "source": [
    "from ci_config import *\n",
    "from sonyci import SonyCi\n",
    "\n",
    "ci = SonyCi(\n",
    "    username=username,\n",
    "    password=password,\n",
    "    client_id=client_id,\n",
    "    client_secret=client_secret,\n",
    "    workspace_id=workspace_id,\n",
    ")"
   ]
  },
  {
   "cell_type": "code",
   "execution_count": null,
   "metadata": {},
   "outputs": [],
   "source": [
    "from sonyci.log import log\n",
    "import logging\n",
    "\n",
    "logging.basicConfig(level=logging.NOTSET)\n",
    "l = logging.getLogger('requests.packages.urllib3')\n",
    "l.setLevel(logging.DEBUG)\n",
    "l.propagate = True\n",
    "\n",
    "ci.client.get(f'workspaces/{ci.workspace_id}').json()"
   ]
  },
  {
   "attachments": {},
   "cell_type": "markdown",
   "metadata": {},
   "source": [
    "## Use an existing token from file\n",
    "\n",
    "This example creates a new `ApiClient` using the token from running `$ ci login`\n"
   ]
  },
  {
   "cell_type": "code",
   "execution_count": null,
   "metadata": {},
   "outputs": [],
   "source": [
    "from requests_oauth2client.tokens import BearerToken, BearerTokenSerializer\n",
    "from requests_oauth2client.auth import OAuth2AccessTokenAuth, BearerAuth\n",
    "from requests_oauth2client import ApiClient, OAuth2Client\n",
    "\n",
    "from sonyci.config import TOKEN_URL, BASE_URL\n",
    "\n",
    "with open('../.token') as f:\n",
    "    token = BearerTokenSerializer().loads(f.read())\n",
    "\n",
    "client = ApiClient(BASE_URL, auth=BearerAuth(token))\n"
   ]
  },
  {
   "cell_type": "code",
   "execution_count": null,
   "metadata": {},
   "outputs": [],
   "source": [
    "client.get(f'workspaces/{workspace_id}').json()\n"
   ]
  },
  {
   "attachments": {},
   "cell_type": "markdown",
   "metadata": {},
   "source": [
    "## Pass the token to the ci instance\n"
   ]
  },
  {
   "cell_type": "code",
   "execution_count": null,
   "metadata": {},
   "outputs": [],
   "source": [
    "from sonyci.sonyci import SonyCi\n",
    "from ci_config import workspace_id\n",
    "\n",
    "ci = SonyCi(token=token, workspace_id=workspace_id)"
   ]
  },
  {
   "cell_type": "code",
   "execution_count": null,
   "metadata": {},
   "outputs": [],
   "source": [
    "ci.client.get(f'workspaces/{ci.workspace_id}').json()"
   ]
  }
 ],
 "metadata": {
  "kernelspec": {
   "display_name": ".venv",
   "language": "python",
   "name": "python3"
  },
  "language_info": {
   "codemirror_mode": {
    "name": "ipython",
    "version": 3
   },
   "file_extension": ".py",
   "mimetype": "text/x-python",
   "name": "python",
   "nbconvert_exporter": "python",
   "pygments_lexer": "ipython3",
   "version": "3.11.3"
  },
  "orig_nbformat": 4
 },
 "nbformat": 4,
 "nbformat_minor": 2
}
