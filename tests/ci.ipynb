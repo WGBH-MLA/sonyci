{
 "cells": [
  {
   "cell_type": "code",
   "execution_count": null,
   "metadata": {},
   "outputs": [],
   "source": [
    "from ci_config import *\n",
    "from sonyci import SonyCi\n",
    "\n",
    "ci = SonyCi(\n",
    "    username=username,\n",
    "    password=password,\n",
    "    client_id=client_id,\n",
    "    client_secret=client_secret,\n",
    "    workspace_id=workspace_id,\n",
    ")\n"
   ]
  },
  {
   "cell_type": "code",
   "execution_count": null,
   "metadata": {},
   "outputs": [],
   "source": [
    "from sonyci.log import log\n",
    "import logging\n",
    "\n",
    "logging.basicConfig(level=logging.NOTSET)\n",
    "l = logging.getLogger('requests.packages.urllib3')\n",
    "l.setLevel(logging.DEBUG)\n",
    "l.propagate = True\n",
    "ci.client.get(f'workspaces/{ci.workspace_id}').json()\n"
   ]
  },
  {
   "cell_type": "code",
   "execution_count": null,
   "metadata": {},
   "outputs": [],
   "source": [
    "from requests_oauth2client.tokens import BearerToken, BearerTokenSerializer\n",
    "from requests_oauth2client.auth import OAuth2AccessTokenAuth, BearerAuth\n",
    "from requests_oauth2client import ApiClient, OAuth2Client\n",
    "\n",
    "from sonyci.config import TOKEN_URL, BASE_URL\n",
    "\n",
    "with open('../.token') as f:\n",
    "    token = BearerTokenSerializer().loads(f.read())\n",
    "\n",
    "client = ApiClient(BASE_URL, auth=BearerAuth(token))"
   ]
  },
  {
   "cell_type": "code",
   "execution_count": null,
   "metadata": {},
   "outputs": [],
   "source": [
    "client.get(f'workspaces/{workspace_id}').json()"
   ]
  },
  {
   "cell_type": "code",
   "execution_count": null,
   "metadata": {},
   "outputs": [],
   "source": [
    "from sonyci.sonyci import SonyCi\n",
    "from ci_config import workspace_id\n",
    "\n",
    "ci = SonyCi(client=client, workspace_id=workspace_id)\n"
   ]
  },
  {
   "cell_type": "code",
   "execution_count": null,
   "metadata": {},
   "outputs": [],
   "source": [
    "ci.client.get(f'workspaces/{ci.workspace_id}').json()\n"
   ]
  }
 ],
 "metadata": {
  "kernelspec": {
   "display_name": ".venv",
   "language": "python",
   "name": "python3"
  },
  "language_info": {
   "codemirror_mode": {
    "name": "ipython",
    "version": 3
   },
   "file_extension": ".py",
   "mimetype": "text/x-python",
   "name": "python",
   "nbconvert_exporter": "python",
   "pygments_lexer": "ipython3",
   "version": "3.11.3"
  },
  "orig_nbformat": 4
 },
 "nbformat": 4,
 "nbformat_minor": 2
}
